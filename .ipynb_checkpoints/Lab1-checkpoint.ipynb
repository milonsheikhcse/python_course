{
 "cells": [
  {
   "cell_type": "markdown",
   "metadata": {},
   "source": []
  },
  {
   "cell_type": "code",
   "execution_count": null,
   "metadata": {},
   "outputs": [],
   "source": [
    "# price = 20"
   ]
  },
  {
   "cell_type": "code",
   "execution_count": null,
   "metadata": {},
   "outputs": [],
   "source": [
    "print(price)"
   ]
  },
  {
   "cell_type": "code",
   "execution_count": null,
   "metadata": {},
   "outputs": [],
   "source": [
    "price = 10\n",
    "print(price)\n"
   ]
  },
  {
   "cell_type": "code",
   "execution_count": null,
   "metadata": {},
   "outputs": [],
   "source": [
    "# hfhfhf\n",
    "\n",
    "wasd = 100\n",
    "print(wasd)\n",
    "\n",
    "\n"
   ]
  },
  {
   "cell_type": "code",
   "execution_count": null,
   "metadata": {},
   "outputs": [],
   "source": [
    "import keyword\n"
   ]
  },
  {
   "cell_type": "code",
   "execution_count": null,
   "metadata": {},
   "outputs": [],
   "source": [
    "keyword.kwlist\n"
   ]
  },
  {
   "cell_type": "code",
   "execution_count": null,
   "metadata": {},
   "outputs": [],
   "source": [
    "keyword.keywordlist"
   ]
  },
  {
   "cell_type": "code",
   "execution_count": null,
   "metadata": {},
   "outputs": [],
   "source": [
    "keyword.kwlist"
   ]
  },
  {
   "cell_type": "code",
   "execution_count": null,
   "metadata": {},
   "outputs": [],
   "source": [
    "help(print)"
   ]
  },
  {
   "cell_type": "code",
   "execution_count": null,
   "metadata": {},
   "outputs": [],
   "source": [
    "a=1\n",
    "id(a)"
   ]
  },
  {
   "cell_type": "code",
   "execution_count": null,
   "metadata": {},
   "outputs": [],
   "source": [
    "type(a)"
   ]
  },
  {
   "cell_type": "code",
   "execution_count": null,
   "metadata": {},
   "outputs": [],
   "source": [
    "id(print)"
   ]
  },
  {
   "cell_type": "code",
   "execution_count": null,
   "metadata": {},
   "outputs": [],
   "source": [
    "import random\n",
    "def arrival_diff(x):\n",
    "    if(x > 0 and x < 126):\n",
    "        return 1\n",
    "    elif(x > 125 and x < 251):\n",
    "        return 2\n",
    "    elif( x > 250 and x < 376):\n",
    "        return 3\n",
    "    elif(x >375 and x < 501):\n",
    "        return 4\n",
    "    elif(x > 500 and x <626 ):\n",
    "        return 5\n",
    "    elif(x > 626 and x < 751):\n",
    "        return 6\n",
    "    elif(x > 750 and x < 876):\n",
    "        return 7\n",
    "    elif(x > 876 and x < 1001):\n",
    "        return 8\n",
    "\n",
    "def service(x):\n",
    "    if(x > 0 and x < 11):\n",
    "        return 1\n",
    "    elif(x > 10 and x < 31):\n",
    "        return 2\n",
    "    elif( x > 30 and x < 61):\n",
    "        return 3\n",
    "    elif(x >60 and x < 86):\n",
    "        return 4\n",
    "    elif(x > 85 and x <96 ):\n",
    "        return 5\n",
    "    elif(x > 95 and x < 101):\n",
    "        return 6\n",
    "    \n",
    "\n",
    "\n",
    "customer_num = 100\n",
    "current_time = 0\n",
    "arr_diff = []\n",
    "serve_time = []\n",
    "arr_time = []\n",
    "server_time_begin = []\n",
    "server_time_end =[]\n",
    "wait_time = []\n",
    "idle_time = []\n",
    "spend = []\n",
    "wait_count = 0\n",
    "\n",
    "\n",
    "for i in range(0, customer_num):\n",
    "    if(i == 0):\n",
    "        ar = 0\n",
    "        arr_time.append(0)\n",
    "    else:\n",
    "        ar = arrival_diff(random.randint(1,1000))\n",
    "        arr_time.append(arr_time[i-1]+ar)\n",
    "        \n",
    "    sr = service(random.randint(1, 100))\n",
    "    arr_diff.append(ar)\n",
    "    serve_time.append(sr)\n",
    "        \n",
    "    server_time_begin.append(max(current_time,arr_time[i]))\n",
    "    wait_time.append(server_time_begin[i] - arr_time[i])\n",
    "        \n",
    "    if(wait_time[i]!=0):\n",
    "        wait_count +=1\n",
    "    if(current_time < arr_time[i]):\n",
    "        idle_time.append(arr_time[i] - current_time)\n",
    "            \n",
    "    else:\n",
    "        idle_time.append(0)\n",
    "        \n",
    "        \n",
    "    server_time_end.append(server_time_begin[i] + serve_time[i])\n",
    "    spend.append(serve_time[i] + wait_time[i])\n",
    "    current_time = server_time_end[i]\n",
    "        \n",
    "    \n",
    "average_waiting_time = (float)(sum(wait_time))/(float)(customer_num)\n",
    "\n",
    "probability_wait = (float)(wait_count)/(float)(customer_num)\n",
    "probability_of_idle_server = (float)(sum(idle_time))/(float)(server_time_end[customer_num-1])\n",
    "\n",
    "average_sevice_time = (float)(sum(serve_time))/(float)(customer_num)\n",
    "\n",
    "average_time_btn_arrival = (float)(sum(arr_diff))/(float)(customer_num - 1)\n",
    "\n",
    "if wait_count == 0:\n",
    "    average_waiting_time_those_who_wait = 0\n",
    "else:\n",
    "    average_waiting_time_those_who_wait = (float) (sum(wait_time))/(float)(wait_count)\n",
    "\n",
    "\n",
    "average_time_customer_spends_in_the_system = (float)(sum(spend)) / (float) (customer_num)\n",
    "    \n",
    "\n",
    "\n",
    "print(\" average waiting time = %.4f probability_wait = %.4f probability of Idle server = %.4f average_service_time = %.4f\"  %(average_waiting_time,probability_wait,probability_of_idle_server,average_sevice_time))\n",
    "print(\"average time btn arrival = %.4f\\n average wating time those who wait = %.4f\\n average time customer spends in the system = %.4f\\n\" %(average_time_btn_arrival,average_waiting_time_those_who_wait,average_time_customer_spends_in_the_system))\n",
    "    \n",
    "    "
   ]
  },
  {
   "cell_type": "code",
   "execution_count": null,
   "metadata": {},
   "outputs": [],
   "source": []
  }
 ],
 "metadata": {
  "kernelspec": {
   "display_name": "Python 3",
   "language": "python",
   "name": "python3"
  },
  "language_info": {
   "codemirror_mode": {
    "name": "ipython",
    "version": 3
   },
   "file_extension": ".py",
   "mimetype": "text/x-python",
   "name": "python",
   "nbconvert_exporter": "python",
   "pygments_lexer": "ipython3",
   "version": "3.8.5"
  }
 },
 "nbformat": 4,
 "nbformat_minor": 4
}
